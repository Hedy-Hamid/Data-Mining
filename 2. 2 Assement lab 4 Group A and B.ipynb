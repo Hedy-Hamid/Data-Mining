{
 "cells": [
  {
   "cell_type": "markdown",
   "id": "f7d159c5",
   "metadata": {},
   "source": [
    "# Importing Depedenccy"
   ]
  },
  {
   "cell_type": "code",
   "execution_count": 51,
   "id": "a0789486",
   "metadata": {},
   "outputs": [],
   "source": [
    "import numpy as np\n",
    "from scipy import stats as st\n",
    "import matplotlib.pyplot as plt"
   ]
  },
  {
   "cell_type": "markdown",
   "id": "ef6ea618",
   "metadata": {},
   "source": [
    "# Part 1"
   ]
  },
  {
   "cell_type": "markdown",
   "id": "9f622c4d",
   "metadata": {},
   "source": [
    "### random number generate using numpy"
   ]
  },
  {
   "cell_type": "code",
   "execution_count": 52,
   "id": "270642a8",
   "metadata": {},
   "outputs": [
    {
     "name": "stdout",
     "output_type": "stream",
     "text": [
      "[[0.77395605 0.43887844 0.85859792 ... 0.2883281  0.6824955  0.13975248]\n",
      " [0.1999082  0.00736227 0.78692438 ... 0.08764992 0.1180059  0.96189766]\n",
      " [0.90858069 0.69970713 0.26586996 ... 0.5206724  0.43891146 0.02161208]\n",
      " ...\n",
      " [0.20168801 0.73137131 0.80558611 ... 0.50637407 0.88878777 0.79239565]\n",
      " [0.49882892 0.2884926  0.17988646 ... 0.78308831 0.65559414 0.69113201]\n",
      " [0.22781115 0.74182091 0.23790989 ... 0.47114914 0.35318783 0.61523005]]\n",
      "length of the x:  100\n"
     ]
    }
   ],
   "source": [
    "'''\n",
    "\n",
    "seed is a value used to initialize a pseudorandom number generator. \n",
    "The seed value is used to initialize the state of the generator, \n",
    "which is then used to generate a sequence of random numbers. \n",
    "The same seed value will always produce the same sequence of random numbers, \n",
    "so it can be used to generate reproducible results.\n",
    "\n",
    "'''\n",
    "\n",
    "\n",
    "## [0.42] [0.84] [...]\n",
    "rng = np.random.default_rng(seed = 42) ## for creating random variables \n",
    "\n",
    "## creating 100 raw and 50 columns\n",
    "x = rng.random((100, 50))\n",
    "\n",
    "print(x)\n",
    "print(\"length of the x: \", len(x))"
   ]
  },
  {
   "cell_type": "markdown",
   "id": "ca2f012c",
   "metadata": {},
   "source": [
    "### saving the data in file that name is \"outfile.npy\" and load it also"
   ]
  },
  {
   "cell_type": "code",
   "execution_count": 53,
   "id": "8e713496",
   "metadata": {},
   "outputs": [
    {
     "name": "stdout",
     "output_type": "stream",
     "text": [
      "[[0.77395605 0.43887844 0.85859792 ... 0.2883281  0.6824955  0.13975248]\n",
      " [0.1999082  0.00736227 0.78692438 ... 0.08764992 0.1180059  0.96189766]\n",
      " [0.90858069 0.69970713 0.26586996 ... 0.5206724  0.43891146 0.02161208]\n",
      " ...\n",
      " [0.20168801 0.73137131 0.80558611 ... 0.50637407 0.88878777 0.79239565]\n",
      " [0.49882892 0.2884926  0.17988646 ... 0.78308831 0.65559414 0.69113201]\n",
      " [0.22781115 0.74182091 0.23790989 ... 0.47114914 0.35318783 0.61523005]]\n"
     ]
    }
   ],
   "source": [
    "np.save('outfile', x)\n",
    "b = np.load('outfile.npy') \n",
    "print(b)"
   ]
  },
  {
   "cell_type": "markdown",
   "id": "d5ffcb1c",
   "metadata": {},
   "source": [
    "# Part 2"
   ]
  },
  {
   "cell_type": "markdown",
   "id": "333e181f",
   "metadata": {},
   "source": [
    "### Taking minimum and maximum number of numpy array"
   ]
  },
  {
   "cell_type": "code",
   "execution_count": 54,
   "id": "fe1423f2",
   "metadata": {
    "scrolled": true
   },
   "outputs": [
    {
     "name": "stdout",
     "output_type": "stream",
     "text": [
      "maximum number in all 3 raw [0.97562235 0.96189766 0.96917638 0.99237556 0.97182643 0.97957068\n",
      " 0.95888025 0.98663154 0.99910473 0.98002718 0.99546447 0.98180595\n",
      " 0.98554017 0.99874337 0.99470175 0.98464953 0.99308458 0.97922463\n",
      " 0.98456861 0.9933685  0.99180772 0.97820443 0.99942191 0.99038846\n",
      " 0.93554194 0.99667721 0.9821443  0.993543   0.97719273 0.99481489\n",
      " 0.96058696 0.99882964 0.99407777 0.96062629 0.98662875 0.98982307\n",
      " 0.96219999 0.99882861 0.95314838 0.98731262 0.98100481 0.98764745\n",
      " 0.99426918 0.96977158 0.99976534 0.98671191 0.99500942 0.99124463\n",
      " 0.99766739 0.95909606 0.96993188 0.9955553  0.95959626 0.99309886\n",
      " 0.99087248 0.99100025 0.99822848 0.9866982  0.99939004 0.97924324\n",
      " 0.98536456 0.9645812  0.99601576 0.98659108 0.95410828 0.97135902\n",
      " 0.99940893 0.97410962 0.98460738 0.99086584 0.99764797 0.99767545\n",
      " 0.96514212 0.95228591 0.99224721 0.98817642 0.95910184 0.99904002\n",
      " 0.92294342 0.99626506 0.94689229 0.96681988 0.99650526 0.9956698\n",
      " 0.97620086 0.99825595 0.99731074 0.97880865 0.9192221  0.99612726\n",
      " 0.9896585  0.99014561 0.99480342 0.99690942 0.97750598 0.99764859\n",
      " 0.940611   0.99971485 0.9838205  0.98064028]\n",
      "minimum number in all 3 raw [0.04380377 0.00736227 0.02161208 0.03741256 0.01393629 0.02114802\n",
      " 0.08449322 0.01230269 0.00542983 0.03605983 0.01072764 0.00731446\n",
      " 0.00450012 0.01766878 0.00123306 0.00474139 0.0040076  0.02314009\n",
      " 0.04517312 0.00230877 0.01976645 0.02322758 0.00750703 0.00051874\n",
      " 0.00106747 0.0441751  0.0046188  0.02397036 0.03517598 0.05083346\n",
      " 0.06993163 0.01580556 0.00430578 0.03511681 0.02445084 0.07130453\n",
      " 0.00056813 0.02115601 0.01101667 0.01205186 0.01377736 0.01623046\n",
      " 0.01412473 0.03417941 0.03875133 0.00485734 0.02375651 0.00861726\n",
      " 0.04907405 0.05037974 0.01239721 0.00389415 0.03158133 0.0321494\n",
      " 0.00270727 0.04887538 0.02829231 0.00098999 0.007483   0.01180909\n",
      " 0.00498497 0.01625711 0.04295763 0.00082462 0.00361624 0.0264791\n",
      " 0.01246566 0.01012934 0.00708535 0.00099246 0.0006423  0.0443973\n",
      " 0.00400316 0.02477788 0.06082987 0.02329106 0.0155807  0.00192971\n",
      " 0.03602491 0.01412657 0.04300325 0.02907161 0.02036847 0.00632465\n",
      " 0.01409465 0.00734814 0.0030611  0.02620936 0.0022352  0.04049895\n",
      " 0.01885158 0.00163085 0.00092611 0.03491579 0.03643195 0.00440092\n",
      " 0.01075372 0.02326044 0.05335098 0.00687801]\n",
      "minimum number in all array 0.0005187441657055203\n",
      "-------------------- y-axis --------------------\n",
      "maximum number in all 3 columns [0.99822848 0.98418526 0.99731074 0.99940893 0.99703466 0.99882861\n",
      " 0.98907794 0.99280796 0.99860952 0.99910473 0.99976534 0.99352252\n",
      " 0.99308458 0.98457808 0.98236668 0.97612839 0.98982307 0.99874337\n",
      " 0.99407777 0.9955553  0.99939004 0.96945858 0.99758004 0.9850467\n",
      " 0.99904002 0.98602974 0.97652707 0.99546447 0.99482421 0.99204201\n",
      " 0.99942191 0.99764859 0.99080977 0.993543   0.99690942 0.98663154\n",
      " 0.98718633 0.99038846 0.99427867 0.99971485 0.99766739 0.98127652\n",
      " 0.99612726 0.99032166 0.9866982  0.99767545 0.98020478 0.99764797\n",
      " 0.9933685  0.96189766]\n",
      "minimum number in all 3 columns [0.00082462 0.00736227 0.0006423  0.03509077 0.01221546 0.00400316\n",
      " 0.00361624 0.00051874 0.02044298 0.03099479 0.0040076  0.0165798\n",
      " 0.00671578 0.0046188  0.0030611  0.00923892 0.00430578 0.01299335\n",
      " 0.0022352  0.02114802 0.00106747 0.007483   0.00440092 0.03108418\n",
      " 0.00474139 0.01816054 0.00192971 0.04380377 0.00436362 0.00098999\n",
      " 0.00270727 0.01649126 0.01766878 0.00861726 0.00389415 0.02036847\n",
      " 0.00056813 0.00498497 0.00708535 0.01118675 0.00166071 0.00092611\n",
      " 0.02329106 0.00123306 0.00731446 0.01412657 0.00450012 0.00230877\n",
      " 0.00485734 0.02025876]\n",
      "maximum number in all array 0.9997653369143439\n"
     ]
    }
   ],
   "source": [
    "## printing maximum number of value in all 3 raw\n",
    "\n",
    "print('maximum number in all 3 raw', np.max(b, axis = 1)) ## when axis=1 it would take the maximum of each row, but when axis=0 it would take the maximum row\n",
    "\n",
    "## printing minimum number of value in all 3 raw\n",
    "\n",
    "print('minimum number in all 3 raw', np.min(b, axis = 1))\n",
    "\n",
    "\n",
    "print('minimum number in all array', np.min(b)) #  for  entire array\n",
    "\n",
    "\n",
    "print(\"-------------------- y-axis --------------------\")\n",
    "\n",
    "## printing maximum number of value in all 5 columns\n",
    "\n",
    "print('maximum number in all 3 columns', np.max(b, axis = 0)) \n",
    "\n",
    "## printing minimum number of value in all 5 columns\n",
    "\n",
    "print('minimum number in all 3 columns', np.min(b, axis = 0)) \n",
    "\n",
    "\n",
    "print('maximum number in all array', np.max(b))  # for the entire array"
   ]
  },
  {
   "cell_type": "markdown",
   "id": "d44f1615",
   "metadata": {},
   "source": [
    "### Taking mean() & median() of array numpy"
   ]
  },
  {
   "cell_type": "code",
   "execution_count": 55,
   "id": "80b25ae5",
   "metadata": {
    "scrolled": true
   },
   "outputs": [
    {
     "name": "stdout",
     "output_type": "stream",
     "text": [
      "-------------------- x-axis --------------------\n",
      "finding mean in all 3 raw  [0.53523273 0.43820418 0.48185469 0.52018661 0.50490654 0.43953617\n",
      " 0.52537668 0.52707331 0.51158928 0.47285317 0.50498187 0.49004338\n",
      " 0.56844124 0.51433921 0.44456775 0.43121929 0.51272732 0.51190266\n",
      " 0.5089325  0.49958819 0.51285065 0.54838331 0.54311867 0.45447468\n",
      " 0.4396869  0.48629756 0.52902362 0.49473961 0.51312416 0.52404744\n",
      " 0.47740943 0.52938393 0.50510756 0.53880164 0.54608658 0.50131351\n",
      " 0.49040027 0.52310145 0.46681974 0.54574126 0.44697814 0.4682252\n",
      " 0.49232849 0.48980191 0.45672769 0.52579916 0.45176291 0.45419078\n",
      " 0.54518444 0.52295268 0.49255281 0.49279523 0.56281209 0.55315824\n",
      " 0.46709013 0.55992967 0.46192351 0.42851779 0.50489455 0.47984351\n",
      " 0.51523506 0.51313936 0.50272077 0.44187166 0.47798125 0.45563218\n",
      " 0.47269165 0.48259443 0.48328094 0.57815414 0.52489382 0.58646753\n",
      " 0.46720103 0.39469525 0.60142564 0.51582333 0.48447862 0.47782979\n",
      " 0.49034575 0.40498207 0.47874847 0.5163391  0.55223104 0.49161656\n",
      " 0.45854928 0.51214118 0.52168577 0.47015178 0.41827733 0.52777716\n",
      " 0.45816684 0.51619961 0.46649233 0.49625144 0.42944725 0.49587827\n",
      " 0.46691862 0.48391816 0.53439216 0.42367199]\n",
      "finding median in all 3 raw  [0.51514486 0.45253603 0.48448088 0.53644725 0.51854976 0.3836223\n",
      " 0.53407853 0.53781242 0.62316041 0.4741507  0.49888729 0.49605347\n",
      " 0.67629651 0.47509826 0.43214976 0.35400737 0.56023932 0.49341019\n",
      " 0.47495399 0.48631934 0.49085906 0.56525489 0.53432217 0.41741164\n",
      " 0.42069506 0.44128275 0.56267021 0.49206658 0.49934703 0.50292031\n",
      " 0.45397505 0.49612319 0.44817185 0.55505099 0.54756808 0.53820534\n",
      " 0.4963504  0.51613803 0.46495842 0.56108274 0.4430076  0.43595374\n",
      " 0.4692843  0.47536407 0.37739984 0.57476433 0.4297718  0.44423607\n",
      " 0.58408481 0.54488039 0.50846239 0.52994184 0.57304112 0.50606349\n",
      " 0.4642214  0.65069201 0.44472683 0.41463964 0.54826149 0.53041014\n",
      " 0.58035791 0.4805174  0.49795879 0.37636592 0.45596179 0.48522537\n",
      " 0.46851543 0.48805024 0.51353593 0.61486955 0.53210429 0.58794499\n",
      " 0.43329934 0.34693177 0.69696266 0.51204202 0.52334448 0.43077673\n",
      " 0.51073612 0.34226413 0.46640137 0.54365411 0.51867559 0.50619283\n",
      " 0.46281924 0.5212894  0.5522393  0.48074588 0.37380486 0.52645098\n",
      " 0.44311836 0.56481968 0.39348023 0.46319655 0.35999888 0.48680964\n",
      " 0.43654926 0.47197746 0.58367214 0.3429966 ]\n",
      "finding median in all array  0.49198289849416954\n",
      "-------------------- y-axis --------------------\n",
      "finding mean in all 3 columns  [0.50179076 0.51829053 0.49986223 0.54266444 0.49815525 0.51679707\n",
      " 0.53623767 0.45301866 0.46223191 0.48128691 0.54864026 0.52890641\n",
      " 0.52344653 0.49482198 0.47301911 0.48074611 0.48014225 0.46165286\n",
      " 0.46363486 0.53096396 0.4900565  0.47032501 0.49319865 0.53348492\n",
      " 0.49085562 0.45380497 0.50102664 0.48303782 0.52511611 0.52731415\n",
      " 0.50815702 0.50610395 0.51894078 0.45241309 0.51096136 0.48660381\n",
      " 0.4850158  0.48457073 0.47740702 0.47143598 0.45611484 0.49820495\n",
      " 0.52407788 0.44730356 0.49470602 0.52221256 0.46182991 0.49714707\n",
      " 0.51897677 0.49390492]\n",
      "finding median in all 3 columns  [0.4881674  0.54436958 0.48592492 0.56323333 0.50668496 0.54119966\n",
      " 0.53601886 0.43768896 0.44986557 0.46867837 0.57008463 0.50983157\n",
      " 0.53972075 0.51194924 0.43464599 0.48814527 0.46029946 0.50414193\n",
      " 0.47483466 0.50644899 0.4427311  0.4763406  0.47990271 0.5388996\n",
      " 0.50584456 0.41740291 0.4710502  0.47883915 0.56533641 0.51166099\n",
      " 0.50532811 0.51579639 0.54995655 0.41848177 0.53330102 0.4526471\n",
      " 0.44079533 0.472355   0.4455483  0.49580971 0.3573183  0.53653566\n",
      " 0.55419007 0.39293878 0.47486083 0.49892308 0.42819879 0.50930852\n",
      " 0.50830595 0.45661841]\n",
      "finding mean in all array  0.4956123631748691\n"
     ]
    }
   ],
   "source": [
    "print(\"-------------------- x-axis --------------------\")\n",
    "\n",
    "## printing the mean of all 3 raw\n",
    "\n",
    "print('finding mean in all 3 raw ', np.mean(b, axis = 1))\n",
    "\n",
    "\n",
    "## printing the median of all 3 raw\n",
    "\n",
    "print('finding median in all 3 raw ', np.median(b, axis = 1))\n",
    "\n",
    "## finding median in the entire array of the numpy\n",
    "\n",
    "print('finding median in all array ', np.median(b))\n",
    "\n",
    "\n",
    "print(\"-------------------- y-axis --------------------\")\n",
    "\n",
    "## printing the mean of all 5 columns\n",
    "\n",
    "print('finding mean in all 3 columns ', np.mean(b, axis = 0))\n",
    "\n",
    "\n",
    "## printing the median of all 5 columns\n",
    "\n",
    "print('finding median in all 3 columns ', np.median(b, axis = 0))\n",
    "\n",
    "\n",
    "## finding mean in the entire array of the numpy\n",
    "\n",
    "print('finding mean in all array ', np.mean(b))"
   ]
  },
  {
   "cell_type": "markdown",
   "id": "08ee0f18",
   "metadata": {},
   "source": [
    "### numpy with scipy to find mode and standard division ( mode() & std() ) Function"
   ]
  },
  {
   "cell_type": "code",
   "execution_count": 57,
   "id": "f6ec5067",
   "metadata": {
    "collapsed": true
   },
   "outputs": [
    {
     "name": "stdout",
     "output_type": "stream",
     "text": [
      "-------------------- x-axis --------------------\n",
      "ModeResult(mode=array([[0.04380377],\n",
      "       [0.00736227],\n",
      "       [0.02161208],\n",
      "       [0.03741256],\n",
      "       [0.01393629],\n",
      "       [0.02114802],\n",
      "       [0.08449322],\n",
      "       [0.01230269],\n",
      "       [0.00542983],\n",
      "       [0.03605983],\n",
      "       [0.01072764],\n",
      "       [0.00731446],\n",
      "       [0.00450012],\n",
      "       [0.01766878],\n",
      "       [0.00123306],\n",
      "       [0.00474139],\n",
      "       [0.0040076 ],\n",
      "       [0.02314009],\n",
      "       [0.04517312],\n",
      "       [0.00230877],\n",
      "       [0.01976645],\n",
      "       [0.02322758],\n",
      "       [0.00750703],\n",
      "       [0.00051874],\n",
      "       [0.00106747],\n",
      "       [0.0441751 ],\n",
      "       [0.0046188 ],\n",
      "       [0.02397036],\n",
      "       [0.03517598],\n",
      "       [0.05083346],\n",
      "       [0.06993163],\n",
      "       [0.01580556],\n",
      "       [0.00430578],\n",
      "       [0.03511681],\n",
      "       [0.02445084],\n",
      "       [0.07130453],\n",
      "       [0.00056813],\n",
      "       [0.02115601],\n",
      "       [0.01101667],\n",
      "       [0.01205186],\n",
      "       [0.01377736],\n",
      "       [0.01623046],\n",
      "       [0.01412473],\n",
      "       [0.03417941],\n",
      "       [0.03875133],\n",
      "       [0.00485734],\n",
      "       [0.02375651],\n",
      "       [0.00861726],\n",
      "       [0.04907405],\n",
      "       [0.05037974],\n",
      "       [0.01239721],\n",
      "       [0.00389415],\n",
      "       [0.03158133],\n",
      "       [0.0321494 ],\n",
      "       [0.00270727],\n",
      "       [0.04887538],\n",
      "       [0.02829231],\n",
      "       [0.00098999],\n",
      "       [0.007483  ],\n",
      "       [0.01180909],\n",
      "       [0.00498497],\n",
      "       [0.01625711],\n",
      "       [0.04295763],\n",
      "       [0.00082462],\n",
      "       [0.00361624],\n",
      "       [0.0264791 ],\n",
      "       [0.01246566],\n",
      "       [0.01012934],\n",
      "       [0.00708535],\n",
      "       [0.00099246],\n",
      "       [0.0006423 ],\n",
      "       [0.0443973 ],\n",
      "       [0.00400316],\n",
      "       [0.02477788],\n",
      "       [0.06082987],\n",
      "       [0.02329106],\n",
      "       [0.0155807 ],\n",
      "       [0.00192971],\n",
      "       [0.03602491],\n",
      "       [0.01412657],\n",
      "       [0.04300325],\n",
      "       [0.02907161],\n",
      "       [0.02036847],\n",
      "       [0.00632465],\n",
      "       [0.01409465],\n",
      "       [0.00734814],\n",
      "       [0.0030611 ],\n",
      "       [0.02620936],\n",
      "       [0.0022352 ],\n",
      "       [0.04049895],\n",
      "       [0.01885158],\n",
      "       [0.00163085],\n",
      "       [0.00092611],\n",
      "       [0.03491579],\n",
      "       [0.03643195],\n",
      "       [0.00440092],\n",
      "       [0.01075372],\n",
      "       [0.02326044],\n",
      "       [0.05335098],\n",
      "       [0.00687801]]), count=array([[1],\n",
      "       [1],\n",
      "       [1],\n",
      "       [1],\n",
      "       [1],\n",
      "       [1],\n",
      "       [1],\n",
      "       [1],\n",
      "       [1],\n",
      "       [1],\n",
      "       [1],\n",
      "       [1],\n",
      "       [1],\n",
      "       [1],\n",
      "       [1],\n",
      "       [1],\n",
      "       [1],\n",
      "       [1],\n",
      "       [1],\n",
      "       [1],\n",
      "       [1],\n",
      "       [1],\n",
      "       [1],\n",
      "       [1],\n",
      "       [1],\n",
      "       [1],\n",
      "       [1],\n",
      "       [1],\n",
      "       [1],\n",
      "       [1],\n",
      "       [1],\n",
      "       [1],\n",
      "       [1],\n",
      "       [1],\n",
      "       [1],\n",
      "       [1],\n",
      "       [1],\n",
      "       [1],\n",
      "       [1],\n",
      "       [1],\n",
      "       [1],\n",
      "       [1],\n",
      "       [1],\n",
      "       [1],\n",
      "       [1],\n",
      "       [1],\n",
      "       [1],\n",
      "       [1],\n",
      "       [1],\n",
      "       [1],\n",
      "       [1],\n",
      "       [1],\n",
      "       [1],\n",
      "       [1],\n",
      "       [1],\n",
      "       [1],\n",
      "       [1],\n",
      "       [1],\n",
      "       [1],\n",
      "       [1],\n",
      "       [1],\n",
      "       [1],\n",
      "       [1],\n",
      "       [1],\n",
      "       [1],\n",
      "       [1],\n",
      "       [1],\n",
      "       [1],\n",
      "       [1],\n",
      "       [1],\n",
      "       [1],\n",
      "       [1],\n",
      "       [1],\n",
      "       [1],\n",
      "       [1],\n",
      "       [1],\n",
      "       [1],\n",
      "       [1],\n",
      "       [1],\n",
      "       [1],\n",
      "       [1],\n",
      "       [1],\n",
      "       [1],\n",
      "       [1],\n",
      "       [1],\n",
      "       [1],\n",
      "       [1],\n",
      "       [1],\n",
      "       [1],\n",
      "       [1],\n",
      "       [1],\n",
      "       [1],\n",
      "       [1],\n",
      "       [1],\n",
      "       [1],\n",
      "       [1],\n",
      "       [1],\n",
      "       [1],\n",
      "       [1],\n",
      "       [1]]))\n",
      "[0.27783827 0.25755909 0.27366087 0.30518482 0.29371076 0.3126465\n",
      " 0.26631695 0.26651385 0.33638152 0.24191322 0.30477733 0.27311889\n",
      " 0.31059824 0.27318778 0.29578883 0.29875091 0.29978797 0.28557385\n",
      " 0.30206492 0.29458125 0.2671874  0.26756266 0.30258497 0.30339256\n",
      " 0.27602354 0.27421378 0.29192873 0.31175456 0.32304896 0.26783605\n",
      " 0.26049033 0.29280774 0.28765881 0.28495481 0.29528534 0.29050653\n",
      " 0.25959894 0.29169333 0.29597012 0.2962127  0.28343521 0.28938122\n",
      " 0.3146282  0.27604484 0.29361665 0.29238396 0.29304336 0.2945818\n",
      " 0.27228667 0.26427359 0.29202321 0.30605436 0.25979639 0.26384504\n",
      " 0.27623021 0.29181384 0.28582102 0.28566693 0.3077639  0.28492086\n",
      " 0.28523117 0.28327087 0.29111589 0.3233314  0.29402429 0.27799086\n",
      " 0.30041342 0.29103736 0.2929659  0.27696609 0.28883385 0.27036967\n",
      " 0.28252165 0.25885354 0.27302771 0.29705799 0.25628808 0.29434123\n",
      " 0.25927335 0.30368255 0.2606073  0.27214949 0.25685743 0.2916675\n",
      " 0.2937063  0.30684609 0.31964563 0.27376832 0.27903811 0.28475552\n",
      " 0.26446333 0.29835794 0.28765423 0.29467021 0.26252282 0.29160336\n",
      " 0.24818453 0.25598162 0.25772229 0.27391812]\n"
     ]
    }
   ],
   "source": [
    "print(\"-------------------- x-axis --------------------\")\n",
    "\n",
    "mode_n = st.mode(b, axis = 1) ## using scipy to find mode\n",
    "print(mode_n)\n",
    "\n",
    "varr = np.std(b, axis = 1) ## finding standerd deviation\n",
    "\n",
    "print(varr)"
   ]
  },
  {
   "cell_type": "code",
   "execution_count": 60,
   "id": "a8a9fcca",
   "metadata": {
    "collapsed": true
   },
   "outputs": [
    {
     "name": "stdout",
     "output_type": "stream",
     "text": [
      "ModeResult(mode=array([[0.00082462, 0.00736227, 0.0006423 , 0.03509077, 0.01221546,\n",
      "        0.00400316, 0.00361624, 0.00051874, 0.02044298, 0.03099479,\n",
      "        0.0040076 , 0.0165798 , 0.00671578, 0.0046188 , 0.0030611 ,\n",
      "        0.00923892, 0.00430578, 0.01299335, 0.0022352 , 0.02114802,\n",
      "        0.00106747, 0.007483  , 0.00440092, 0.03108418, 0.00474139,\n",
      "        0.01816054, 0.00192971, 0.04380377, 0.00436362, 0.00098999,\n",
      "        0.00270727, 0.01649126, 0.01766878, 0.00861726, 0.00389415,\n",
      "        0.02036847, 0.00056813, 0.00498497, 0.00708535, 0.01118675,\n",
      "        0.00166071, 0.00092611, 0.02329106, 0.00123306, 0.00731446,\n",
      "        0.01412657, 0.00450012, 0.00230877, 0.00485734, 0.02025876]]), count=array([[1, 1, 1, 1, 1, 1, 1, 1, 1, 1, 1, 1, 1, 1, 1, 1, 1, 1, 1, 1, 1, 1,\n",
      "        1, 1, 1, 1, 1, 1, 1, 1, 1, 1, 1, 1, 1, 1, 1, 1, 1, 1, 1, 1, 1, 1,\n",
      "        1, 1, 1, 1, 1, 1]]))\n"
     ]
    }
   ],
   "source": [
    "## taking mode for entire array\n",
    "\n",
    "mode_n = st.mode(b) ## using scipy to find mode\n",
    "print(mode_n)"
   ]
  },
  {
   "cell_type": "code",
   "execution_count": 59,
   "id": "fc76fa2c",
   "metadata": {},
   "outputs": [
    {
     "name": "stdout",
     "output_type": "stream",
     "text": [
      "0.2884982022521379\n"
     ]
    }
   ],
   "source": [
    "## taking standard deviation for entire array\n",
    "\n",
    "standard_d = np.std(b) ## finding standerd deviation\n",
    "print(standard_d)"
   ]
  },
  {
   "cell_type": "code",
   "execution_count": 58,
   "id": "0c2d6853",
   "metadata": {
    "collapsed": true
   },
   "outputs": [
    {
     "name": "stdout",
     "output_type": "stream",
     "text": [
      "-------------------- y-axis --------------------\n",
      "ModeResult(mode=array([[0.00082462, 0.00736227, 0.0006423 , 0.03509077, 0.01221546,\n",
      "        0.00400316, 0.00361624, 0.00051874, 0.02044298, 0.03099479,\n",
      "        0.0040076 , 0.0165798 , 0.00671578, 0.0046188 , 0.0030611 ,\n",
      "        0.00923892, 0.00430578, 0.01299335, 0.0022352 , 0.02114802,\n",
      "        0.00106747, 0.007483  , 0.00440092, 0.03108418, 0.00474139,\n",
      "        0.01816054, 0.00192971, 0.04380377, 0.00436362, 0.00098999,\n",
      "        0.00270727, 0.01649126, 0.01766878, 0.00861726, 0.00389415,\n",
      "        0.02036847, 0.00056813, 0.00498497, 0.00708535, 0.01118675,\n",
      "        0.00166071, 0.00092611, 0.02329106, 0.00123306, 0.00731446,\n",
      "        0.01412657, 0.00450012, 0.00230877, 0.00485734, 0.02025876]]), count=array([[1, 1, 1, 1, 1, 1, 1, 1, 1, 1, 1, 1, 1, 1, 1, 1, 1, 1, 1, 1, 1, 1,\n",
      "        1, 1, 1, 1, 1, 1, 1, 1, 1, 1, 1, 1, 1, 1, 1, 1, 1, 1, 1, 1, 1, 1,\n",
      "        1, 1, 1, 1, 1, 1]]))\n",
      "[0.3081283  0.29506028 0.2995305  0.27459212 0.30733565 0.28625813\n",
      " 0.29769049 0.28512453 0.29183473 0.28958469 0.29224756 0.28418449\n",
      " 0.28926201 0.30973462 0.27585416 0.28447702 0.26857075 0.29709927\n",
      " 0.29507529 0.27438441 0.29690851 0.26369921 0.28717259 0.29071285\n",
      " 0.28802247 0.26960019 0.26294971 0.28377091 0.27715848 0.28647711\n",
      " 0.2874732  0.30148136 0.26637563 0.2563933  0.31750528 0.30352027\n",
      " 0.27605882 0.28679429 0.29452547 0.26903873 0.31952881 0.30061894\n",
      " 0.28454769 0.30044338 0.28204258 0.27167263 0.27860721 0.26973332\n",
      " 0.28642549 0.28307981]\n"
     ]
    }
   ],
   "source": [
    "print(\"-------------------- y-axis --------------------\")\n",
    "\n",
    "mode_n = st.mode(b, axis = 0) ## using scipy to find mode\n",
    "print(mode_n)\n",
    "\n",
    "varr = np.std(b, axis = 0) ## finding standerd deviation\n",
    "print(varr)"
   ]
  },
  {
   "cell_type": "markdown",
   "id": "b1880bab",
   "metadata": {},
   "source": [
    "### numpy with scipy for finding variance ( var() )"
   ]
  },
  {
   "cell_type": "code",
   "execution_count": 22,
   "id": "55c2beb0",
   "metadata": {},
   "outputs": [
    {
     "name": "stdout",
     "output_type": "stream",
     "text": [
      "-------------------- x-axis --------------------\n",
      "[2.   1.84 4.64]\n",
      "-------------------- y-axis --------------------\n",
      "[16.66666667 10.88888889 16.66666667 16.66666667 16.66666667]\n"
     ]
    }
   ],
   "source": [
    "print(\"-------------------- x-axis --------------------\")\n",
    "\n",
    "print(np.var(ArrVar, axis = 1)) ## varinace\n",
    "\n",
    "\n",
    "print(\"-------------------- y-axis --------------------\")\n",
    "\n",
    "print(np.var(ArrVar, axis = 0)) ## varinace"
   ]
  },
  {
   "cell_type": "code",
   "execution_count": 61,
   "id": "6fa5300c",
   "metadata": {},
   "outputs": [
    {
     "name": "stdout",
     "output_type": "stream",
     "text": [
      "17.662222222222226\n"
     ]
    }
   ],
   "source": [
    "## taking variance for the entire array numpy\n",
    "\n",
    "print(np.var(ArrVar)) ## varinace"
   ]
  },
  {
   "cell_type": "markdown",
   "id": "f33097db",
   "metadata": {},
   "source": [
    "# Part 3"
   ]
  },
  {
   "cell_type": "markdown",
   "id": "3e42f313",
   "metadata": {},
   "source": [
    "### Taking standard devision for x and y \n",
    "\n",
    "i take standard devision for x and y because when we take standard devision for x and y the size of the x and y will be equal in size"
   ]
  },
  {
   "cell_type": "code",
   "execution_count": 71,
   "id": "cd3458eb",
   "metadata": {},
   "outputs": [
    {
     "name": "stdout",
     "output_type": "stream",
     "text": [
      "[0.3081283  0.29506028 0.2995305  0.27459212 0.30733565 0.28625813\n",
      " 0.29769049 0.28512453 0.29183473 0.28958469 0.29224756 0.28418449\n",
      " 0.28926201 0.30973462 0.27585416 0.28447702 0.26857075 0.29709927\n",
      " 0.29507529 0.27438441 0.29690851 0.26369921 0.28717259 0.29071285\n",
      " 0.28802247 0.26960019 0.26294971 0.28377091 0.27715848 0.28647711\n",
      " 0.2874732  0.30148136 0.26637563 0.2563933  0.31750528 0.30352027\n",
      " 0.27605882 0.28679429 0.29452547 0.26903873 0.31952881 0.30061894\n",
      " 0.28454769 0.30044338 0.28204258 0.27167263 0.27860721 0.26973332\n",
      " 0.28642549 0.28307981]\n"
     ]
    }
   ],
   "source": [
    "standard_d_y = np.std(b, axis = 0) ## finding standerd deviation\n",
    "\n",
    "print(standard_d_y)"
   ]
  },
  {
   "cell_type": "code",
   "execution_count": 73,
   "id": "239d25a2",
   "metadata": {},
   "outputs": [
    {
     "data": {
      "text/plain": [
       "(50,)"
      ]
     },
     "execution_count": 73,
     "metadata": {},
     "output_type": "execute_result"
    }
   ],
   "source": [
    "standard_d_y.shape"
   ]
  },
  {
   "cell_type": "code",
   "execution_count": 82,
   "id": "4d8a760b",
   "metadata": {},
   "outputs": [],
   "source": [
    "xx = list(standard_d_y)"
   ]
  },
  {
   "cell_type": "code",
   "execution_count": 64,
   "id": "b6cb05f9",
   "metadata": {},
   "outputs": [
    {
     "name": "stdout",
     "output_type": "stream",
     "text": [
      "[0.27783827 0.25755909 0.27366087 0.30518482 0.29371076 0.3126465\n",
      " 0.26631695 0.26651385 0.33638152 0.24191322 0.30477733 0.27311889\n",
      " 0.31059824 0.27318778 0.29578883 0.29875091 0.29978797 0.28557385\n",
      " 0.30206492 0.29458125 0.2671874  0.26756266 0.30258497 0.30339256\n",
      " 0.27602354 0.27421378 0.29192873 0.31175456 0.32304896 0.26783605\n",
      " 0.26049033 0.29280774 0.28765881 0.28495481 0.29528534 0.29050653\n",
      " 0.25959894 0.29169333 0.29597012 0.2962127  0.28343521 0.28938122\n",
      " 0.3146282  0.27604484 0.29361665 0.29238396 0.29304336 0.2945818\n",
      " 0.27228667 0.26427359 0.29202321 0.30605436 0.25979639 0.26384504\n",
      " 0.27623021 0.29181384 0.28582102 0.28566693 0.3077639  0.28492086\n",
      " 0.28523117 0.28327087 0.29111589 0.3233314  0.29402429 0.27799086\n",
      " 0.30041342 0.29103736 0.2929659  0.27696609 0.28883385 0.27036967\n",
      " 0.28252165 0.25885354 0.27302771 0.29705799 0.25628808 0.29434123\n",
      " 0.25927335 0.30368255 0.2606073  0.27214949 0.25685743 0.2916675\n",
      " 0.2937063  0.30684609 0.31964563 0.27376832 0.27903811 0.28475552\n",
      " 0.26446333 0.29835794 0.28765423 0.29467021 0.26252282 0.29160336\n",
      " 0.24818453 0.25598162 0.25772229 0.27391812]\n"
     ]
    }
   ],
   "source": [
    "standard_d_x = np.std(b, axis = 1) ## finding standerd deviation\n",
    "\n",
    "print(standard_d_x)"
   ]
  },
  {
   "cell_type": "code",
   "execution_count": 65,
   "id": "45e5de2d",
   "metadata": {},
   "outputs": [
    {
     "data": {
      "text/plain": [
       "(50,)"
      ]
     },
     "execution_count": 65,
     "metadata": {},
     "output_type": "execute_result"
    }
   ],
   "source": [
    "standard_d_y.shape"
   ]
  },
  {
   "cell_type": "code",
   "execution_count": 81,
   "id": "232314f8",
   "metadata": {},
   "outputs": [],
   "source": [
    "yy = list(standard_d_y)"
   ]
  },
  {
   "cell_type": "markdown",
   "id": "b0e7bfd5",
   "metadata": {},
   "source": [
    "# Part 4"
   ]
  },
  {
   "cell_type": "markdown",
   "id": "d3da894f",
   "metadata": {},
   "source": [
    "### Simple plot"
   ]
  },
  {
   "cell_type": "code",
   "execution_count": 83,
   "id": "808b45b0",
   "metadata": {
    "scrolled": false
   },
   "outputs": [
    {
     "data": {
      "image/png": "[encoded data removed]",
      "text/plain": [
       "<Figure size 432x288 with 1 Axes>"
      ]
     },
     "metadata": {
      "needs_background": "light"
     },
     "output_type": "display_data"
    }
   ],
   "source": [
    "plt.title(\"Matplotlib demo\") \n",
    "plt.xlabel(\"x axis caption\") \n",
    "plt.ylabel(\"y axis caption\")\n",
    "plt.plot(xx, yy) \n",
    "plt.show()"
   ]
  },
  {
   "cell_type": "markdown",
   "id": "533cec90",
   "metadata": {},
   "source": [
    "### Scatter"
   ]
  },
  {
   "cell_type": "code",
   "execution_count": 87,
   "id": "1bcad76a",
   "metadata": {},
   "outputs": [
    {
     "data": {
      "image/png": "[encoded data removed]",
      "text/plain": [
       "<Figure size 432x288 with 1 Axes>"
      ]
     },
     "metadata": {
      "needs_background": "light"
     },
     "output_type": "display_data"
    }
   ],
   "source": [
    "plt.scatter(xx, yy)\n",
    "\n",
    "plt.title(\"scatter title\") \n",
    "plt.xlabel(\"x axis caption\") \n",
    "plt.ylabel(\"y axis caption\")\n",
    "plt.show()"
   ]
  }
 ],
 "metadata": {
  "kernelspec": {
   "display_name": "Python 3 (ipykernel)",
   "language": "python",
   "name": "python3"
  },
  "language_info": {
   "codemirror_mode": {
    "name": "ipython",
    "version": 3
   },
   "file_extension": ".py",
   "mimetype": "text/x-python",
   "name": "python",
   "nbconvert_exporter": "python",
   "pygments_lexer": "ipython3",
   "version": "3.9.7"
  }
 },
 "nbformat": 4,
 "nbformat_minor": 5
}
